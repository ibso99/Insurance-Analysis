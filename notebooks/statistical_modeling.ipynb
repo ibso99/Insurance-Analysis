{
 "cells": [
  {
   "cell_type": "markdown",
   "metadata": {},
   "source": [
    "# Statistical Modeling\n"
   ]
  },
  {
   "cell_type": "code",
   "execution_count": 1,
   "metadata": {},
   "outputs": [
    {
     "name": "stdout",
     "output_type": "stream",
     "text": [
      "c:\\Users\\ibsan\\Desktop\\TenX\\week-3\\notebooks\n",
      "c:\\Users\\ibsan\\Desktop\\TenX\\week-3\n"
     ]
    }
   ],
   "source": [
    "import os, sys\n",
    "current_dir = os.getcwd()\n",
    "print(current_dir)\n",
    "\n",
    "parent_dir = os.path.dirname(current_dir)\n",
    "print(parent_dir)\n",
    "\n",
    "sys.path.insert(0,parent_dir)"
   ]
  },
  {
   "cell_type": "code",
   "execution_count": 2,
   "metadata": {},
   "outputs": [],
   "source": [
    "from src.DataPipeline import DataPreprocessor"
   ]
  },
  {
   "cell_type": "code",
   "execution_count": 3,
   "metadata": {},
   "outputs": [
    {
     "name": "stderr",
     "output_type": "stream",
     "text": [
      "C:\\Users\\ibsan\\AppData\\Local\\Temp\\ipykernel_63544\\500997546.py:16: DtypeWarning: Columns (32,37) have mixed types. Specify dtype option on import or set low_memory=False.\n",
      "  df = pd.read_csv('C:/Users/ibsan/Desktop/TenX/week-3/Data/MachineLearningRating_v3.csv')\n",
      "WARNING:root:Data contains missing values. Handling missing data...\n",
      "c:\\Users\\ibsan\\Desktop\\TenX\\week-3\\week-3\\Lib\\site-packages\\numpy\\lib\\_nanfunctions_impl.py:1215: RuntimeWarning: Mean of empty slice\n",
      "  return np.nanmean(a, axis, out=out, keepdims=keepdims)\n",
      "c:\\Users\\ibsan\\Desktop\\TenX\\week-3\\week-3\\Lib\\site-packages\\sklearn\\impute\\_base.py:635: UserWarning: Skipping features without any observed values: ['TransactionMonth' 'Citizenship' 'LegalType' 'Title' 'Language' 'Bank'\n",
      " 'AccountType' 'MaritalStatus' 'Gender' 'Country' 'Province'\n",
      " 'MainCrestaZone' 'SubCrestaZone' 'ItemType' 'VehicleType' 'make' 'Model'\n",
      " 'bodytype' 'AlarmImmobiliser' 'TrackingDevice' 'NewVehicle' 'WrittenOff'\n",
      " 'Rebuilt' 'Converted' 'NumberOfVehiclesInFleet' 'TermFrequency'\n",
      " 'ExcessSelected' 'CoverCategory' 'CoverType' 'CoverGroup' 'Section'\n",
      " 'Product' 'StatutoryClass' 'StatutoryRiskType' 'VehicleIntroYear']. At least one non-missing value is needed for imputation with strategy='mean'.\n",
      "  warnings.warn(\n"
     ]
    }
   ],
   "source": [
    "import logging\n",
    "import pandas as pd\n",
    "\n",
    "relevant_cols = ['UnderwrittenCoverID', 'PolicyID', 'TransactionMonth', 'IsVATRegistered', \n",
    "                 'Citizenship', 'LegalType', 'Title', 'Language', 'Bank', 'AccountType', \n",
    "                 'MaritalStatus', 'Gender', 'Country', 'Province', 'PostalCode', 'MainCrestaZone', \n",
    "                 'SubCrestaZone', 'ItemType', 'mmcode', 'VehicleType', 'RegistrationYear', 'make', \n",
    "                 'Model', 'Cylinders', 'cubiccapacity', 'kilowatts', 'bodytype', 'NumberOfDoors', \n",
    "                 'VehicleIntroDate', 'CustomValueEstimate', 'AlarmImmobiliser', 'TrackingDevice', \n",
    "                 'CapitalOutstanding', 'NewVehicle', 'WrittenOff', 'Rebuilt', 'Converted', 'CrossBorder',\n",
    "                'NumberOfVehiclesInFleet', 'SumInsured', 'TermFrequency', 'CalculatedPremiumPerTerm',\n",
    "                'ExcessSelected', 'CoverCategory', 'CoverType', 'CoverGroup', 'Section', 'Product', \n",
    "                'StatutoryClass', 'StatutoryRiskType', 'TotalPremium', 'TotalClaims']\n",
    "\n",
    "try:\n",
    "    df = pd.read_csv('C:/Users/ibsan/Desktop/TenX/week-3/Data/MachineLearningRating_v3.csv')\n",
    "    df = df[relevant_cols]\n",
    "    logging.info(\"Data loaded successfully.\")\n",
    "except FileNotFoundError:\n",
    "    logging.error(\"File not found. Please check the file path.\")\n",
    "    raise\n",
    "\n",
    "preprocessor = DataPreprocessor(output_dir=\"C:/Users/ibsan/Desktop/TenX/week-3/Data\")\n",
    "X_train_p, X_test_p, y_train_p, y_test_p, X_train_c, X_test_c, y_train_c, y_test_c = preprocessor.process_data(df)\n",
    "\n",
    "if X_train_p is not None:\n",
    "    logging.info(f\"X_train_premium shape: {X_train_p.shape}\")\n",
    "if X_train_c is not None:\n",
    "    logging.info(f\"X_train_claims shape: {X_train_c.shape}\")"
   ]
  },
  {
   "cell_type": "code",
   "execution_count": 2,
   "metadata": {},
   "outputs": [
    {
     "name": "stderr",
     "output_type": "stream",
     "text": [
      "2024-12-31 21:39:38,509 - INFO - Training model: LinearRegression\n",
      "2024-12-31 21:39:38,950 - INFO - Model: LinearRegression - MAE: 58.98005062049605, MSE: 17002.92464762395, RMSE: 130.39526313338206, R²: 0.3836880552299182\n",
      "2024-12-31 21:39:38,951 - INFO - Training model: RandomForest\n",
      "2024-12-31 21:45:55,002 - INFO - Model: RandomForest - MAE: 29.02126674807045, MSE: 8002.159569100848, RMSE: 89.45479064365892, R²: 0.7099424582180776\n",
      "2024-12-31 21:45:55,005 - INFO - Training model: DecisionTree\n",
      "2024-12-31 21:45:59,904 - INFO - Model: DecisionTree - MAE: 28.89641495634299, MSE: 8073.757302245584, RMSE: 89.8540889567391, R²: 0.7073472259818558\n",
      "2024-12-31 21:45:59,906 - INFO - Training model: XGBoost\n",
      "2024-12-31 21:46:04,753 - INFO - Model: XGBoost - MAE: 43.175924804226014, MSE: 10711.02726719284, RMSE: 103.4940929096576, R²: 0.611753025885962\n",
      "2024-12-31 21:46:04,759 - INFO - Metrics saved to C:/Users/ibsan/Desktop/TenX/week-3/metrics\\evaluation_metrics.csv\n"
     ]
    }
   ],
   "source": [
    "# Modeling the four moedels with the relevant columns\n",
    "\n",
    "####################################################\n",
    "from src.ModelEvaluater import ModelEvaluator\n",
    "####################################################\n",
    "from sklearn.linear_model import LinearRegression\n",
    "from sklearn.tree import DecisionTreeRegressor\n",
    "from sklearn.ensemble import RandomForestRegressor\n",
    "from xgboost import XGBRegressor\n",
    "import pandas as pd\n",
    "relevant_cols = [\n",
    "    'num__Cylinders',\n",
    "    'num__cubiccapacity',\n",
    "    'num__kilowatts',\n",
    "    'num__NumberOfDoors',\n",
    "    'num__CustomValueEstimate',\n",
    "    'num__SumInsured',\n",
    "    'num__CalculatedPremiumPerTerm',\n",
    "    'num__VehicleAge',\n",
    "    'cat__IsVATRegistered_False',\n",
    "    'cat__IsVATRegistered_True',\n",
    "    'TotalPremium'\n",
    "]\n",
    "\n",
    "df = pd.read_csv('C:/Users/ibsan/Desktop/TenX/week-3/Data/processed_data_with_targets.csv')\n",
    "df = df[relevant_cols]\n",
    "\n",
    "X = df.drop('TotalPremium', axis=1)\n",
    "y = df['TotalPremium']\n",
    "##############################################################################################\n",
    "# Models to evaluate\n",
    "# Models to evaluate\n",
    "models = {\n",
    "    \"LinearRegression\": LinearRegression(),\n",
    "    \"RandomForest\": RandomForestRegressor(random_state=42),\n",
    "    \"DecisionTree\": DecisionTreeRegressor(random_state=42),\n",
    "    \"XGBoost\": XGBRegressor(\n",
    "        random_state=42,\n",
    "        use_label_encoder=False,\n",
    "        verbosity=0,\n",
    "        tree_method='gpu_hist',  # Enable GPU acceleration in XGBoost\n",
    "        gpu_id=0  # Use the first GPU (if available)\n",
    "    )\n",
    "}\n",
    "\n",
    "# Initialize and evaluate models\n",
    "evaluator = ModelEvaluator(models, X, y, output_dir=\"C:/Users/ibsan/Desktop/TenX/week-3/metrics\")\n",
    "evaluator.evaluate()"
   ]
  },
  {
   "cell_type": "code",
   "execution_count": 3,
   "metadata": {},
   "outputs": [
    {
     "data": {
      "text/html": [
       "<div>\n",
       "<style scoped>\n",
       "    .dataframe tbody tr th:only-of-type {\n",
       "        vertical-align: middle;\n",
       "    }\n",
       "\n",
       "    .dataframe tbody tr th {\n",
       "        vertical-align: top;\n",
       "    }\n",
       "\n",
       "    .dataframe thead th {\n",
       "        text-align: right;\n",
       "    }\n",
       "</style>\n",
       "<table border=\"1\" class=\"dataframe\">\n",
       "  <thead>\n",
       "    <tr style=\"text-align: right;\">\n",
       "      <th></th>\n",
       "      <th>Model</th>\n",
       "      <th>MAE</th>\n",
       "      <th>MSE</th>\n",
       "      <th>RMSE</th>\n",
       "      <th>R2</th>\n",
       "    </tr>\n",
       "  </thead>\n",
       "  <tbody>\n",
       "    <tr>\n",
       "      <th>0</th>\n",
       "      <td>LinearRegression</td>\n",
       "      <td>58.980051</td>\n",
       "      <td>17002.924648</td>\n",
       "      <td>130.395263</td>\n",
       "      <td>0.383688</td>\n",
       "    </tr>\n",
       "    <tr>\n",
       "      <th>1</th>\n",
       "      <td>RandomForest</td>\n",
       "      <td>29.021267</td>\n",
       "      <td>8002.159569</td>\n",
       "      <td>89.454791</td>\n",
       "      <td>0.709942</td>\n",
       "    </tr>\n",
       "    <tr>\n",
       "      <th>2</th>\n",
       "      <td>DecisionTree</td>\n",
       "      <td>28.896415</td>\n",
       "      <td>8073.757302</td>\n",
       "      <td>89.854089</td>\n",
       "      <td>0.707347</td>\n",
       "    </tr>\n",
       "    <tr>\n",
       "      <th>3</th>\n",
       "      <td>XGBoost</td>\n",
       "      <td>43.175925</td>\n",
       "      <td>10711.027267</td>\n",
       "      <td>103.494093</td>\n",
       "      <td>0.611753</td>\n",
       "    </tr>\n",
       "  </tbody>\n",
       "</table>\n",
       "</div>"
      ],
      "text/plain": [
       "              Model        MAE           MSE        RMSE        R2\n",
       "0  LinearRegression  58.980051  17002.924648  130.395263  0.383688\n",
       "1      RandomForest  29.021267   8002.159569   89.454791  0.709942\n",
       "2      DecisionTree  28.896415   8073.757302   89.854089  0.707347\n",
       "3           XGBoost  43.175925  10711.027267  103.494093  0.611753"
      ]
     },
     "execution_count": 3,
     "metadata": {},
     "output_type": "execute_result"
    }
   ],
   "source": [
    "metrics = pd.read_csv('C:/Users/ibsan/Desktop/TenX/week-3/metrics/evaluation_metrics.csv')\n",
    "metrics"
   ]
  }
 ],
 "metadata": {
  "kernelspec": {
   "display_name": "week-3",
   "language": "python",
   "name": "python3"
  },
  "language_info": {
   "codemirror_mode": {
    "name": "ipython",
    "version": 3
   },
   "file_extension": ".py",
   "mimetype": "text/x-python",
   "name": "python",
   "nbconvert_exporter": "python",
   "pygments_lexer": "ipython3",
   "version": "3.12.3"
  }
 },
 "nbformat": 4,
 "nbformat_minor": 2
}
