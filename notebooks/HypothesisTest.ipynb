{
 "cells": [
  {
   "cell_type": "markdown",
   "metadata": {},
   "source": [
    "# Hypothesis Testing "
   ]
  },
  {
   "cell_type": "code",
   "execution_count": 1,
   "metadata": {},
   "outputs": [
    {
     "name": "stdout",
     "output_type": "stream",
     "text": [
      "c:\\Users\\ibsan\\Desktop\\TenX\\week-3\\notebooks\n",
      "c:\\Users\\ibsan\\Desktop\\TenX\\week-3\n"
     ]
    }
   ],
   "source": [
    "import os, sys\n",
    "current_dir = os.getcwd()\n",
    "print(current_dir)\n",
    "\n",
    "parent_dir = os.path.dirname(current_dir)\n",
    "print(parent_dir)\n",
    "\n",
    "sys.path.insert(0,parent_dir)"
   ]
  },
  {
   "cell_type": "code",
   "execution_count": 2,
   "metadata": {},
   "outputs": [],
   "source": [
    "from src.HypothesisTester import InsuranceABTester"
   ]
  },
  {
   "cell_type": "code",
   "execution_count": 3,
   "metadata": {},
   "outputs": [
    {
     "name": "stderr",
     "output_type": "stream",
     "text": [
      "2024-12-31 14:26:41,942 - INFO - Dropped columns with >50% missing values: ['CustomValueEstimate', 'WrittenOff', 'Rebuilt', 'Converted', 'CrossBorder', 'NumberOfVehiclesInFleet']\n",
      "2024-12-31 14:26:42,597 - INFO - Dropped irrelevant columns: ['NumberOfVehiclesInFleet']\n",
      "2024-12-31 14:26:42,598 - INFO - Handling missing values...\n",
      "c:\\Users\\ibsan\\Desktop\\TenX\\week-3\\src\\HypothesisTester.py:54: FutureWarning: A value is trying to be set on a copy of a DataFrame or Series through chained assignment using an inplace method.\n",
      "The behavior will change in pandas 3.0. This inplace method will never work because the intermediate object on which we are setting values always behaves as a copy.\n",
      "\n",
      "For example, when doing 'df[col].method(value, inplace=True)', try using 'df.method({col: value}, inplace=True)' or df[col] = df[col].method(value) instead, to perform the operation inplace on the original object.\n",
      "\n",
      "\n",
      "  self.df[col].fillna(mode_value, inplace=True)\n",
      "2024-12-31 14:26:43,164 - INFO - Filled missing values in non-numeric column Bank with mode: First National Bank\n",
      "2024-12-31 14:26:43,471 - INFO - Filled missing values in non-numeric column AccountType with mode: Current account\n",
      "2024-12-31 14:26:43,729 - INFO - Filled missing values in non-numeric column MaritalStatus with mode: Not specified\n",
      "2024-12-31 14:26:43,979 - INFO - Filled missing values in non-numeric column Gender with mode: Not specified\n",
      "c:\\Users\\ibsan\\Desktop\\TenX\\week-3\\src\\HypothesisTester.py:44: FutureWarning: A value is trying to be set on a copy of a DataFrame or Series through chained assignment using an inplace method.\n",
      "The behavior will change in pandas 3.0. This inplace method will never work because the intermediate object on which we are setting values always behaves as a copy.\n",
      "\n",
      "For example, when doing 'df[col].method(value, inplace=True)', try using 'df.method({col: value}, inplace=True)' or df[col] = df[col].method(value) instead, to perform the operation inplace on the original object.\n",
      "\n",
      "\n",
      "  self.df[col].fillna(mean_value, inplace=True)\n",
      "2024-12-31 14:26:45,975 - INFO - Filled missing values in mmcode with mean: 54877704.02047429\n",
      "c:\\Users\\ibsan\\Desktop\\TenX\\week-3\\src\\HypothesisTester.py:54: FutureWarning: A value is trying to be set on a copy of a DataFrame or Series through chained assignment using an inplace method.\n",
      "The behavior will change in pandas 3.0. This inplace method will never work because the intermediate object on which we are setting values always behaves as a copy.\n",
      "\n",
      "For example, when doing 'df[col].method(value, inplace=True)', try using 'df.method({col: value}, inplace=True)' or df[col] = df[col].method(value) instead, to perform the operation inplace on the original object.\n",
      "\n",
      "\n",
      "  self.df[col].fillna(mode_value, inplace=True)\n",
      "2024-12-31 14:26:46,234 - INFO - Filled missing values in non-numeric column VehicleType with mode: Passenger Vehicle\n",
      "2024-12-31 14:26:46,482 - INFO - Filled missing values in non-numeric column make with mode: TOYOTA\n",
      "2024-12-31 14:26:46,762 - INFO - Filled missing values in non-numeric column Model with mode: QUANTUM 2.7 SESFIKILE 16s\n",
      "c:\\Users\\ibsan\\Desktop\\TenX\\week-3\\src\\HypothesisTester.py:44: FutureWarning: A value is trying to be set on a copy of a DataFrame or Series through chained assignment using an inplace method.\n",
      "The behavior will change in pandas 3.0. This inplace method will never work because the intermediate object on which we are setting values always behaves as a copy.\n",
      "\n",
      "For example, when doing 'df[col].method(value, inplace=True)', try using 'df.method({col: value}, inplace=True)' or df[col] = df[col].method(value) instead, to perform the operation inplace on the original object.\n",
      "\n",
      "\n",
      "  self.df[col].fillna(mean_value, inplace=True)\n",
      "2024-12-31 14:26:48,099 - INFO - Filled missing values in Cylinders with mean: 4.0466421755476985\n",
      "c:\\Users\\ibsan\\Desktop\\TenX\\week-3\\src\\HypothesisTester.py:44: FutureWarning: A value is trying to be set on a copy of a DataFrame or Series through chained assignment using an inplace method.\n",
      "The behavior will change in pandas 3.0. This inplace method will never work because the intermediate object on which we are setting values always behaves as a copy.\n",
      "\n",
      "For example, when doing 'df[col].method(value, inplace=True)', try using 'df.method({col: value}, inplace=True)' or df[col] = df[col].method(value) instead, to perform the operation inplace on the original object.\n",
      "\n",
      "\n",
      "  self.df[col].fillna(mean_value, inplace=True)\n",
      "2024-12-31 14:26:49,771 - INFO - Filled missing values in cubiccapacity with mean: 2466.7432584393314\n",
      "c:\\Users\\ibsan\\Desktop\\TenX\\week-3\\src\\HypothesisTester.py:44: FutureWarning: A value is trying to be set on a copy of a DataFrame or Series through chained assignment using an inplace method.\n",
      "The behavior will change in pandas 3.0. This inplace method will never work because the intermediate object on which we are setting values always behaves as a copy.\n",
      "\n",
      "For example, when doing 'df[col].method(value, inplace=True)', try using 'df.method({col: value}, inplace=True)' or df[col] = df[col].method(value) instead, to perform the operation inplace on the original object.\n",
      "\n",
      "\n",
      "  self.df[col].fillna(mean_value, inplace=True)\n",
      "2024-12-31 14:26:51,460 - INFO - Filled missing values in kilowatts with mean: 97.20791939540551\n",
      "c:\\Users\\ibsan\\Desktop\\TenX\\week-3\\src\\HypothesisTester.py:54: FutureWarning: A value is trying to be set on a copy of a DataFrame or Series through chained assignment using an inplace method.\n",
      "The behavior will change in pandas 3.0. This inplace method will never work because the intermediate object on which we are setting values always behaves as a copy.\n",
      "\n",
      "For example, when doing 'df[col].method(value, inplace=True)', try using 'df.method({col: value}, inplace=True)' or df[col] = df[col].method(value) instead, to perform the operation inplace on the original object.\n",
      "\n",
      "\n",
      "  self.df[col].fillna(mode_value, inplace=True)\n",
      "2024-12-31 14:26:51,720 - INFO - Filled missing values in non-numeric column bodytype with mode: B/S\n",
      "c:\\Users\\ibsan\\Desktop\\TenX\\week-3\\src\\HypothesisTester.py:44: FutureWarning: A value is trying to be set on a copy of a DataFrame or Series through chained assignment using an inplace method.\n",
      "The behavior will change in pandas 3.0. This inplace method will never work because the intermediate object on which we are setting values always behaves as a copy.\n",
      "\n",
      "For example, when doing 'df[col].method(value, inplace=True)', try using 'df.method({col: value}, inplace=True)' or df[col] = df[col].method(value) instead, to perform the operation inplace on the original object.\n",
      "\n",
      "\n",
      "  self.df[col].fillna(mean_value, inplace=True)\n",
      "2024-12-31 14:26:53,388 - INFO - Filled missing values in NumberOfDoors with mean: 4.019249739381679\n",
      "c:\\Users\\ibsan\\Desktop\\TenX\\week-3\\src\\HypothesisTester.py:54: FutureWarning: A value is trying to be set on a copy of a DataFrame or Series through chained assignment using an inplace method.\n",
      "The behavior will change in pandas 3.0. This inplace method will never work because the intermediate object on which we are setting values always behaves as a copy.\n",
      "\n",
      "For example, when doing 'df[col].method(value, inplace=True)', try using 'df.method({col: value}, inplace=True)' or df[col] = df[col].method(value) instead, to perform the operation inplace on the original object.\n",
      "\n",
      "\n",
      "  self.df[col].fillna(mode_value, inplace=True)\n",
      "2024-12-31 14:26:53,641 - INFO - Filled missing values in non-numeric column VehicleIntroDate with mode: 4/2012\n",
      "2024-12-31 14:26:54,074 - INFO - Filled missing values in non-numeric column CapitalOutstanding with mode: 0\n",
      "2024-12-31 14:26:54,313 - INFO - Filled missing values in non-numeric column NewVehicle with mode: More than 6 months\n",
      "2024-12-31 14:26:54,794 - INFO - Missing values handled.\n",
      "2024-12-31 14:26:54,984 - INFO - Converted column TransactionMonth to datetime.\n",
      "c:\\Users\\ibsan\\Desktop\\TenX\\week-3\\src\\HypothesisTester.py:62: UserWarning: Could not infer format, so each element will be parsed individually, falling back to `dateutil`. To ensure parsing is consistent and as-expected, please specify a format.\n",
      "  self.df[col] = pd.to_datetime(self.df[col], errors='coerce')\n",
      "2024-12-31 14:26:55,126 - INFO - Converted column VehicleIntroDate to datetime.\n",
      "2024-12-31 14:26:55,174 - INFO - Converted column IsVATRegistered to boolean.\n",
      "c:\\Users\\ibsan\\Desktop\\TenX\\week-3\\src\\HypothesisTester.py:74: FutureWarning: Downcasting object dtype arrays on .fillna, .ffill, .bfill is deprecated and will change in a future version. Call result.infer_objects(copy=False) instead. To opt-in to the future behavior, set `pd.set_option('future.no_silent_downcasting', True)`\n",
      "  .fillna(False)\n",
      "2024-12-31 14:26:55,454 - INFO - Converted column NewVehicle to boolean.\n",
      "2024-12-31 14:26:55,458 - WARNING - Boolean conversion failed for column: WrittenOff. Check column names and values.\n",
      "2024-12-31 14:26:55,462 - WARNING - Boolean conversion failed for column: Rebuilt. Check column names and values.\n",
      "2024-12-31 14:26:55,464 - WARNING - Boolean conversion failed for column: Converted. Check column names and values.\n",
      "2024-12-31 14:26:55,561 - INFO - Converted column Gender to categorical.\n",
      "2024-12-31 14:26:55,642 - INFO - Converted column MaritalStatus to categorical.\n",
      "2024-12-31 14:26:55,709 - INFO - Converted column AlarmImmobiliser to categorical.\n",
      "2024-12-31 14:26:55,771 - INFO - Converted column TrackingDevice to categorical.\n",
      "2024-12-31 14:26:55,838 - INFO - Converted column TermFrequency to categorical.\n",
      "2024-12-31 14:26:55,938 - INFO - Converted column ExcessSelected to categorical.\n",
      "2024-12-31 14:26:55,948 - INFO - Calculated Profit column.\n"
     ]
    }
   ],
   "source": [
    "import pandas as pd\n",
    "df = pd.read_csv('C:/Users/ibsan/Desktop/TenX/week-3/Data/MachineLearningRating_v3.csv', low_memory=False)   \n",
    "tester = InsuranceABTester(df)"
   ]
  },
  {
   "cell_type": "code",
   "execution_count": 4,
   "metadata": {},
   "outputs": [
    {
     "name": "stderr",
     "output_type": "stream",
     "text": [
      "2024-12-31 14:27:02,004 - INFO - Dropped columns with >50% missing values: []\n",
      "2024-12-31 14:27:02,472 - INFO - Dropped irrelevant columns: ['NumberOfVehiclesInFleet']\n",
      "2024-12-31 14:27:02,474 - INFO - Handling missing values...\n",
      "2024-12-31 14:27:03,689 - INFO - Missing values handled.\n",
      "2024-12-31 14:27:03,752 - INFO - Converted column TransactionMonth to datetime.\n",
      "2024-12-31 14:27:03,808 - INFO - Converted column VehicleIntroDate to datetime.\n",
      "2024-12-31 14:27:03,863 - INFO - Converted column IsVATRegistered to boolean.\n",
      "2024-12-31 14:27:03,901 - INFO - Converted column NewVehicle to boolean.\n",
      "2024-12-31 14:27:03,903 - WARNING - Boolean conversion failed for column: WrittenOff. Check column names and values.\n",
      "2024-12-31 14:27:03,904 - WARNING - Boolean conversion failed for column: Rebuilt. Check column names and values.\n",
      "2024-12-31 14:27:03,905 - WARNING - Boolean conversion failed for column: Converted. Check column names and values.\n",
      "2024-12-31 14:27:03,907 - INFO - Converted column Gender to categorical.\n",
      "2024-12-31 14:27:03,908 - INFO - Converted column MaritalStatus to categorical.\n",
      "2024-12-31 14:27:03,910 - INFO - Converted column AlarmImmobiliser to categorical.\n",
      "2024-12-31 14:27:03,912 - INFO - Converted column TrackingDevice to categorical.\n",
      "2024-12-31 14:27:03,913 - INFO - Converted column TermFrequency to categorical.\n",
      "2024-12-31 14:27:03,915 - INFO - Converted column ExcessSelected to categorical.\n"
     ]
    }
   ],
   "source": [
    "tester._clean_data()"
   ]
  },
  {
   "cell_type": "code",
   "execution_count": 5,
   "metadata": {},
   "outputs": [
    {
     "name": "stderr",
     "output_type": "stream",
     "text": [
      "2024-12-31 14:27:07,950 - INFO - Calculated Profit column.\n"
     ]
    }
   ],
   "source": [
    "tester._calculate_profit()"
   ]
  },
  {
   "cell_type": "code",
   "execution_count": 6,
   "metadata": {},
   "outputs": [
    {
     "name": "stderr",
     "output_type": "stream",
     "text": [
      "2024-12-31 14:27:31,990 - INFO - Reject null hypothesis: Significant risk difference found.\n"
     ]
    },
    {
     "name": "stdout",
     "output_type": "stream",
     "text": [
      "                   sum_sq         df         F        PR(>F)\n",
      "C(Province)  2.659654e+08        8.0  5.849414  1.678206e-07\n",
      "Residual     5.684098e+12  1000089.0       NaN           NaN\n"
     ]
    },
    {
     "name": "stderr",
     "output_type": "stream",
     "text": [
      "2024-12-31 14:31:33,377 - INFO - Fail to reject null hypothesis: No significant risk difference found.\n"
     ]
    },
    {
     "name": "stdout",
     "output_type": "stream",
     "text": [
      "                     sum_sq        df         F    PR(>F)\n",
      "C(PostalCode)  4.749257e+09     887.0  0.941976  0.890651\n",
      "Residual       5.679614e+12  999210.0       NaN       NaN\n"
     ]
    },
    {
     "name": "stderr",
     "output_type": "stream",
     "text": [
      "2024-12-31 14:35:04,529 - INFO - Fail to reject null hypothesis: No significant profit difference found.\n"
     ]
    },
    {
     "name": "stdout",
     "output_type": "stream",
     "text": [
      "                     sum_sq        df         F    PR(>F)\n",
      "C(PostalCode)  4.328249e+09     887.0  0.870747  0.997686\n",
      "Residual       5.599551e+12  999210.0       NaN       NaN\n"
     ]
    },
    {
     "name": "stderr",
     "output_type": "stream",
     "text": [
      "2024-12-31 14:35:08,648 - INFO - Reject null hypothesis: Significant risk difference found.\n"
     ]
    },
    {
     "name": "stdout",
     "output_type": "stream",
     "text": [
      "                 sum_sq         df         F    PR(>F)\n",
      "C(Gender)  5.232113e+07        2.0  4.602677  0.010025\n",
      "Residual   5.684311e+12  1000095.0       NaN       NaN\n"
     ]
    }
   ],
   "source": [
    "tester.perform_ab_testing()"
   ]
  },
  {
   "cell_type": "code",
   "execution_count": null,
   "metadata": {},
   "outputs": [],
   "source": []
  }
 ],
 "metadata": {
  "kernelspec": {
   "display_name": "week-3",
   "language": "python",
   "name": "python3"
  },
  "language_info": {
   "codemirror_mode": {
    "name": "ipython",
    "version": 3
   },
   "file_extension": ".py",
   "mimetype": "text/x-python",
   "name": "python",
   "nbconvert_exporter": "python",
   "pygments_lexer": "ipython3",
   "version": "3.12.3"
  }
 },
 "nbformat": 4,
 "nbformat_minor": 2
}
